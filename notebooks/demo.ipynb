{
 "cells": [
  {
   "cell_type": "code",
   "execution_count": 10,
   "id": "d1988387",
   "metadata": {},
   "outputs": [],
   "source": [
    "import os \n",
    "from intelcom_helper.snowflake import fetch_data, fetch_data_sso, write_data, create_table"
   ]
  },
  {
   "cell_type": "code",
   "execution_count": 8,
   "id": "05d4b419",
   "metadata": {},
   "outputs": [],
   "source": [
    "data = fetch_data(sql_query)"
   ]
  },
  {
   "cell_type": "code",
   "execution_count": null,
   "id": "f896d44a",
   "metadata": {},
   "outputs": [],
   "source": [
    "data = fetch_data_sso(sql_query, email)"
   ]
  },
  {
   "cell_type": "code",
   "execution_count": 14,
   "id": "89bae8f3",
   "metadata": {},
   "outputs": [
    {
     "name": "stdout",
     "output_type": "stream",
     "text": [
      "Snowflake engine created\n",
      "Uploading dataset to Snowflake...\n",
      "Successfully uploaded 82965 rows into : SANDBOX_SP.SANDBOX.NEW_TEST_3\n"
     ]
    }
   ],
   "source": [
    "create_table(data,\n",
    "             sf_warehouse=os.environ['SK_WAREHOUSE'],\n",
    "             sf_database='SANDBOX_SP',\n",
    "             sf_schema='SANDBOX',\n",
    "             sf_table_name='NEW_TEST_3',\n",
    "             overwrite=False)"
   ]
  },
  {
   "cell_type": "code",
   "execution_count": 18,
   "id": "ae8d214b",
   "metadata": {},
   "outputs": [
    {
     "name": "stdout",
     "output_type": "stream",
     "text": [
      "Uploading dataset to Snowflake...\n",
      "Successfully uploaded 82965 rows into : SANDBOX_SP.SANDBOX.NEW_TEST_3\n"
     ]
    }
   ],
   "source": [
    "write_data(data, \n",
    "           sf_warehouse=os.environ['SK_WAREHOUSE'],\n",
    "           sf_database='SANDBOX_SP',\n",
    "           sf_schema='SANDBOX',\n",
    "           sf_table_name='NEW_TEST_3')"
   ]
  },
  {
   "cell_type": "code",
   "execution_count": null,
   "id": "69ef7b42",
   "metadata": {},
   "outputs": [],
   "source": []
  }
 ],
 "metadata": {
  "kernelspec": {
   "display_name": "Python 3 (ipykernel)",
   "language": "python",
   "name": "python3"
  },
  "language_info": {
   "codemirror_mode": {
    "name": "ipython",
    "version": 3
   },
   "file_extension": ".py",
   "mimetype": "text/x-python",
   "name": "python",
   "nbconvert_exporter": "python",
   "pygments_lexer": "ipython3",
   "version": "3.7.11"
  }
 },
 "nbformat": 4,
 "nbformat_minor": 5
}
